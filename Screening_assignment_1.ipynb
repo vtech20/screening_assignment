{
  "nbformat": 4,
  "nbformat_minor": 0,
  "metadata": {
    "colab": {
      "name": "Screening_assignment_1",
      "provenance": [],
      "collapsed_sections": []
    },
    "kernelspec": {
      "name": "python3",
      "display_name": "Python 3"
    },
    "language_info": {
      "name": "python"
    }
  },
  "cells": [
    {
      "cell_type": "markdown",
      "source": [
        "# Abstract Class"
      ],
      "metadata": {
        "id": "tSm9PfGx39F0"
      }
    },
    {
      "cell_type": "markdown",
      "source": [
        "Abstract classes serve as a model for other classes. When developing large functions, an abstract class can be handy. An abstract class can also be useful for providing a consistent interface for multiple component implementations."
      ],
      "metadata": {
        "id": "0PpehTPp98Jq"
      }
    },
    {
      "cell_type": "code",
      "source": [
        "from abc import ABC\n",
        "\n",
        "class smartphone(ABC):\n",
        "  def operating_system(self):\n",
        "    pass\n",
        "  \n",
        "class samsung(smartphone):\n",
        "  def operating_system(self):\n",
        "    print(\"Android\") \n",
        "\n",
        "class iphone(smartphone):\n",
        "  def operating_system(self):\n",
        "    print(\"IOS\")    "
      ],
      "metadata": {
        "id": "m_kBI8OK-Lyz"
      },
      "execution_count": 1,
      "outputs": []
    },
    {
      "cell_type": "code",
      "execution_count": 2,
      "metadata": {
        "colab": {
          "base_uri": "https://localhost:8080/"
        },
        "id": "3LCqskNH9aWw",
        "outputId": "3b8c6d57-5f16-45ab-dd65-dbee2e752195"
      },
      "outputs": [
        {
          "output_type": "stream",
          "name": "stdout",
          "text": [
            "Android\n"
          ]
        }
      ],
      "source": [
        "s = samsung()\n",
        "s.operating_system()"
      ]
    },
    {
      "cell_type": "code",
      "source": [
        "i = iphone()\n",
        "i.operating_system()"
      ],
      "metadata": {
        "colab": {
          "base_uri": "https://localhost:8080/"
        },
        "id": "3pwvWcmOA9hM",
        "outputId": "d336dd70-c9f9-4ecf-fb6b-8ee75dfe6b94"
      },
      "execution_count": 3,
      "outputs": [
        {
          "output_type": "stream",
          "name": "stdout",
          "text": [
            "IOS\n"
          ]
        }
      ]
    },
    {
      "cell_type": "markdown",
      "source": [
        "To create the abstract base class, we imported the abc module in the above code. We constructed the smartphone class, which inherited the ABC class, and defined the operating system abstract method (). We then took the base class from each of the three subclasses and implemented the abstract function in a different way. To call the abstract method, we constructed the objects."
      ],
      "metadata": {
        "id": "CUUbz2Pncnzg"
      }
    },
    {
      "cell_type": "markdown",
      "source": [
        "# Multiple Inheritance"
      ],
      "metadata": {
        "id": "5P5z23Ijc-HF"
      }
    },
    {
      "cell_type": "markdown",
      "source": [
        "A class which gets derived from more than one class is called Multiple inheritance. The derived class will have all the properties of the base class. "
      ],
      "metadata": {
        "id": "rv23hNrBepuE"
      }
    },
    {
      "cell_type": "code",
      "source": [
        "class ABC:\n",
        "    def a1(self):\n",
        "        print(\"ABC class method a1 is called\")\n",
        "\n",
        "class XYZ(ABC):\n",
        "    def a1(self):\n",
        "        print(\"XYZ class method a1 is called\")\n",
        "    def a2(self):\n",
        "        print(\"XYZ class method a2 is called\")\n",
        "\n",
        "class CDE(ABC):\n",
        "    def a1(self):\n",
        "        print(\"CDE class method a1 is called\")\n",
        "        XYZ.a1(self)\n",
        "        ABC.a1(self)"
      ],
      "metadata": {
        "id": "AszFLcr2BPaF"
      },
      "execution_count": 8,
      "outputs": []
    },
    {
      "cell_type": "code",
      "source": [
        "c = CDE()\n",
        "c.a1()"
      ],
      "metadata": {
        "colab": {
          "base_uri": "https://localhost:8080/"
        },
        "id": "IPx5K0pUgJrq",
        "outputId": "7a130d46-b34a-43ac-fd38-97f082ad14a0"
      },
      "execution_count": 9,
      "outputs": [
        {
          "output_type": "stream",
          "name": "stdout",
          "text": [
            "CDE class method a1 is called\n",
            "XYZ class method a1 is called\n",
            "ABC class method a1 is called\n"
          ]
        }
      ]
    },
    {
      "cell_type": "markdown",
      "source": [
        "# Decorators"
      ],
      "metadata": {
        "id": "ZzPNYzbPi0fN"
      }
    },
    {
      "cell_type": "markdown",
      "source": [
        "Decorators are used to change a function's or a class's behaviour. Functions are passed as arguments to another function in Decorators and then called from within the wrapper function."
      ],
      "metadata": {
        "id": "AFwPCLszjQCp"
      }
    },
    {
      "cell_type": "code",
      "source": [
        "def welcome_note(func):\n",
        "   \n",
        "    def details():\n",
        "      name = input(\"Enter the first name of yours :\")\n",
        "      print(\"Hi {},\".format(name))\n",
        "      func()\n",
        "    return details()"
      ],
      "metadata": {
        "id": "M_ccOgiUgPrT"
      },
      "execution_count": 12,
      "outputs": []
    },
    {
      "cell_type": "code",
      "source": [
        "@welcome_note\n",
        "def airport():\n",
        "    print(\"Welcome to Chennai Airport\")"
      ],
      "metadata": {
        "colab": {
          "base_uri": "https://localhost:8080/"
        },
        "id": "IaxMnp0DkRpH",
        "outputId": "e3a25e1a-1f45-4ff0-ebd2-6eb842dad351"
      },
      "execution_count": 13,
      "outputs": [
        {
          "output_type": "stream",
          "name": "stdout",
          "text": [
            "Enter the first name of yours :Vignesh\n",
            "Hi Vignesh,\n",
            "Welcome to Chennai Airport\n"
          ]
        }
      ]
    },
    {
      "cell_type": "code",
      "source": [
        ""
      ],
      "metadata": {
        "id": "ZV7YE-2xkxps"
      },
      "execution_count": null,
      "outputs": []
    }
  ]
}